{
 "cells": [
  {
   "cell_type": "code",
   "execution_count": null,
   "id": "10d56e02",
   "metadata": {},
   "outputs": [
    {
     "ename": "TypeError",
     "evalue": "dfs() takes 1 positional argument but 2 were given",
     "output_type": "error",
     "traceback": [
      "\u001b[0;31m---------------------------------------------------------------------------\u001b[0m",
      "\u001b[0;31mTypeError\u001b[0m                                 Traceback (most recent call last)",
      "Cell \u001b[0;32mIn[3], line 48\u001b[0m\n\u001b[1;32m     45\u001b[0m df \u001b[38;5;241m=\u001b[39m preprocess_data(df)\n\u001b[1;32m     46\u001b[0m G \u001b[38;5;241m=\u001b[39m buildgraph(df)\n\u001b[0;32m---> 48\u001b[0m all_dfs_components \u001b[38;5;241m=\u001b[39m \u001b[43mdfs\u001b[49m\u001b[43m(\u001b[49m\u001b[43mG\u001b[49m\u001b[43m)\u001b[49m\n\u001b[1;32m     49\u001b[0m \u001b[38;5;28mprint\u001b[39m(\u001b[38;5;124mf\u001b[39m\u001b[38;5;124m\"\u001b[39m\u001b[38;5;124mNumber of DFS-connected components: \u001b[39m\u001b[38;5;132;01m{\u001b[39;00m\u001b[38;5;28mlen\u001b[39m(all_dfs_components)\u001b[38;5;132;01m}\u001b[39;00m\u001b[38;5;124m\"\u001b[39m)\n\u001b[1;32m     51\u001b[0m \u001b[38;5;28;01mfor\u001b[39;00m idx, comp \u001b[38;5;129;01min\u001b[39;00m \u001b[38;5;28menumerate\u001b[39m(all_dfs_components):\n",
      "Cell \u001b[0;32mIn[3], line 20\u001b[0m, in \u001b[0;36mdfs\u001b[0;34m(graph)\u001b[0m\n\u001b[1;32m     18\u001b[0m \u001b[38;5;28;01mfor\u001b[39;00m node \u001b[38;5;129;01min\u001b[39;00m graph\u001b[38;5;241m.\u001b[39mnodes():\n\u001b[1;32m     19\u001b[0m     \u001b[38;5;28;01mif\u001b[39;00m node \u001b[38;5;129;01mnot\u001b[39;00m \u001b[38;5;129;01min\u001b[39;00m visited_global:\n\u001b[0;32m---> 20\u001b[0m         visited \u001b[38;5;241m=\u001b[39m \u001b[43mdfs\u001b[49m\u001b[43m(\u001b[49m\u001b[43mgraph\u001b[49m\u001b[43m,\u001b[49m\u001b[43m \u001b[49m\u001b[43mnode\u001b[49m\u001b[43m)\u001b[49m\n\u001b[1;32m     21\u001b[0m         visited_global\u001b[38;5;241m.\u001b[39mupdate(visited)\n\u001b[1;32m     22\u001b[0m         all_visited\u001b[38;5;241m.\u001b[39mappend(visited)\n",
      "\u001b[0;31mTypeError\u001b[0m: dfs() takes 1 positional argument but 2 were given"
     ]
    }
   ],
   "source": [
    "import pandas as pd\n",
    "import networkx as nx\n",
    "import matplotlib.pyplot as plt\n",
    "def load_data():\n",
    "    df = pd.read_csv('ML.csv')\n",
    "    return df\n",
    "def preprocess_data(df):\n",
    "    df=df.drop(columns=['typeoffraud'])\n",
    "    return df\n",
    "def buildgraph(df):\n",
    "    G = nx.from_pandas_edgelist(df, source='sourceid', target='destinationid', edge_attr=True)\n",
    "    return G\n",
    "\n",
    "def dfs(graph):\n",
    "    visited_global = set()\n",
    "    all_visited = []\n",
    "\n",
    "    for node in graph.nodes():\n",
    "        if node not in visited_global:\n",
    "            visited = dfs(graph, node)\n",
    "            visited_global.update(visited)\n",
    "            all_visited.append(visited)\n",
    "    \n",
    "    return all_visited\n",
    "\n",
    "def find_cycles(graph):\n",
    "    cycles = list(nx.simple_cycles(graph))\n",
    "    return cycles\n",
    "\n",
    "\n",
    "def visualize_dfs(graph, visited):\n",
    "    pos = nx.spring_layout(graph)\n",
    "    plt.figure(figsize=(10, 8))\n",
    "    visited_subgraph = graph.subgraph(visited)\n",
    "    nx.draw_networkx_edges(visited_subgraph, pos, edge_color='red', width=2)\n",
    "    nx.draw_networkx_nodes(visited_subgraph, pos, node_color='red')\n",
    "    nx.draw_networkx_labels(visited_subgraph, pos)\n",
    "\n",
    "    plt.title(\"DFS Traversal Chain\")\n",
    "    plt.axis('off')\n",
    "    plt.show()\n",
    "\n",
    "if __name__ == \"__main__\":\n",
    "    df = load_data()\n",
    "    df = preprocess_data(df)\n",
    "    G = buildgraph(df)\n",
    "\n",
    "    all_dfs_components = dfs(G)\n",
    "    print(f\"Number of DFS-connected components: {len(all_dfs_components)}\")\n",
    "    \n",
    "    for idx, comp in enumerate(all_dfs_components):\n",
    "        print(f\"\\nDFS Component {idx + 1}: {comp}\")\n",
    "        visualize_dfs(G, comp)\n",
    "\n",
    "    cycles = find_cycles(G)\n",
    "    print(f\"\\nDetected {len(cycles)} cycles in the transaction graph.\")\n",
    "    for i, cycle in enumerate(cycles[:5]):  # Show a few\n",
    "        print(f\"Cycle {i+1}: {cycle}\")\n",
    "\n"
   ]
  }
 ],
 "metadata": {
  "kernelspec": {
   "display_name": "Python 3",
   "language": "python",
   "name": "python3"
  },
  "language_info": {
   "codemirror_mode": {
    "name": "ipython",
    "version": 3
   },
   "file_extension": ".py",
   "mimetype": "text/x-python",
   "name": "python",
   "nbconvert_exporter": "python",
   "pygments_lexer": "ipython3",
   "version": "3.12.3"
  }
 },
 "nbformat": 4,
 "nbformat_minor": 5
}
